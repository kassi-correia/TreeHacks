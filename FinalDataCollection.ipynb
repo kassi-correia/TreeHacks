{
 "cells": [
  {
   "cell_type": "code",
   "execution_count": 1,
   "metadata": {},
   "outputs": [],
   "source": [
    "import time\n",
    "import os\n",
    "import pandas as pd\n",
    "import numpy as np\n",
    "import json\n",
    "import matplotlib.pyplot as plt\n",
    "import seaborn as sns\n",
    "%config InlineBackend.figure_format ='retina'\n",
    "import random\n",
    "from functools import reduce\n",
    "import spotipy\n",
    "import spotipy.util as util\n",
    "from spotipy.oauth2 import SpotifyClientCredentials\n",
    "from spotipy import oauth2\n",
    "from tqdm import tqdm"
   ]
  },
  {
   "cell_type": "code",
   "execution_count": 2,
   "metadata": {},
   "outputs": [],
   "source": [
    "def login():\n",
    "    cid = '98ecc26f9931438a852afca48a8a0196'\n",
    "    secret = 'db6462ad1fd4460cb70867c38347a045'\n",
    "    redirect_uri='http://localhost:7777/callback'\n",
    "    username = 'washingtondctrip'\n",
    "\n",
    "    # Once the Authorisation is complete, we just need to `sp` to call the APIs\n",
    "    scope = 'user-top-read playlist-modify-private playlist-modify-public'\n",
    "    token = util.prompt_for_user_token(username, scope, client_id=cid, client_secret=secret, redirect_uri=redirect_uri)\n",
    "\n",
    "    if token:\n",
    "        sp = spotipy.Spotify(auth=token)\n",
    "    else:\n",
    "        print(\"Can't get token for\", username)\n",
    "    return sp"
   ]
  },
  {
   "cell_type": "code",
   "execution_count": 3,
   "metadata": {},
   "outputs": [],
   "source": [
    "def getTrackFeatures(track_id):\n",
    "    sp = login()\n",
    "    features = sp.audio_features(track_id)\n",
    "    \n",
    "    if features and features[0]:\n",
    "        acousticness = features[0]['acousticness']\n",
    "        danceability = features[0]['danceability']\n",
    "        energy = features[0]['energy']\n",
    "        instrumentalness = features[0]['instrumentalness']\n",
    "        liveness = features[0]['liveness']\n",
    "        loudness = features[0]['loudness']\n",
    "        speechiness = features[0]['speechiness']\n",
    "        tempo = features[0]['tempo']\n",
    "        time_signature = features[0]['time_signature']\n",
    "\n",
    "        track = [danceability, acousticness, energy, instrumentalness, liveness, loudness, speechiness, tempo, time_signature]\n",
    "        return track\n",
    "    \n",
    "    return None"
   ]
  },
  {
   "cell_type": "code",
   "execution_count": 4,
   "metadata": {},
   "outputs": [],
   "source": [
    "# Getting top 50 tracks from user\n",
    "\n",
    "def fucker(playlist_id):\n",
    "    sp = login()\n",
    "    playlist = sp.user_playlist('spotify', playlist_id)\n",
    "    results = playlist\n",
    "    \n",
    "    track_id = []\n",
    "    track_name = []\n",
    "    artist = []\n",
    "    duration = []\n",
    "    album = []\n",
    "    popularity = []\n",
    "    danceability = []\n",
    "    acousticness = []\n",
    "    energy = []\n",
    "    instrumentalness = []\n",
    "    liveness = []\n",
    "    loudness = []\n",
    "    speechiness = []\n",
    "    tempo = []\n",
    "    time_signature = []\n",
    "\n",
    "\n",
    "    for i, items in enumerate(results['tracks']['items']):\n",
    "            if items and items['track']:\n",
    "                items2 = getTrackFeatures(items['track']['id'])\n",
    "                if items2:\n",
    "                    danceability.append(items2[0])\n",
    "                    acousticness.append(items2[1])\n",
    "                    energy.append(items2[2])\n",
    "                    instrumentalness.append(items2[3])\n",
    "                    liveness.append(items2[4])\n",
    "                    loudness.append(items2[5])\n",
    "                    speechiness.append(items2[6])\n",
    "                    tempo.append(items2[7])\n",
    "                    time_signature.append(items2[8])\n",
    "                \n",
    "                    track_id.append(items['track']['id'])\n",
    "                    track_name.append(items['track']['name'])\n",
    "                    artist.append(items['track'][\"artists\"][0][\"name\"])\n",
    "                    duration.append(items['track'][\"duration_ms\"])\n",
    "                    album.append(items['track'][\"album\"][\"name\"])\n",
    "                    popularity.append(items['track'][\"popularity\"])\n",
    "                \n",
    "                \n",
    "    # Create the final df   \n",
    "    df_favourite = pd.DataFrame({ \"track_name\": track_name, \n",
    "                                 \"album\": album, \n",
    "                                 \"track_id\": track_id,\n",
    "                                 \"artist\": artist, \n",
    "                                 \"duration\": duration, \n",
    "                                 \"popularity\": popularity,\n",
    "                                 \"danceability\": danceability,\n",
    "                                 \"acousticness\":acousticness,\n",
    "                                 \"energy\":energy,\n",
    "                                 \"instrumentalness\":instrumentalness,\n",
    "                                 \"liveness\":liveness,\n",
    "                                 \"loudness\":loudness,\n",
    "                                 \"speechiness\":speechiness,\n",
    "                                 \"tempo\":tempo,\n",
    "                                 \"time_signature\":time_signature})\n",
    "    \n",
    "    return df_favourite\n"
   ]
  },
  {
   "cell_type": "code",
   "execution_count": 5,
   "metadata": {},
   "outputs": [],
   "source": [
    "# # Getting playlist IDs from each of Spotify's playlists\n",
    "sp = login()\n",
    "playlists = sp.user_playlists('spotify')\n",
    "spotify_playlist_ids = []\n",
    "while playlists:\n",
    "    for i, playlist in enumerate(playlists['items']):\n",
    "        spotify_playlist_ids.append(playlist['uri'][-22:])\n",
    "    if playlists['next']:\n",
    "        playlists = sp.next(playlists)\n",
    "    else:\n",
    "        playlists = None"
   ]
  },
  {
   "cell_type": "code",
   "execution_count": 7,
   "metadata": {},
   "outputs": [],
   "source": [
    "finalres = pd.concat(songresults)"
   ]
  },
  {
   "cell_type": "code",
   "execution_count": 8,
   "metadata": {},
   "outputs": [],
   "source": [
    "finalres.to_csv('FINALsongs.csv',index=False)"
   ]
  },
  {
   "cell_type": "code",
   "execution_count": null,
   "metadata": {},
   "outputs": [],
   "source": []
  }
 ],
 "metadata": {
  "kernelspec": {
   "display_name": "Python 3",
   "language": "python",
   "name": "python3"
  },
  "language_info": {
   "codemirror_mode": {
    "name": "ipython",
    "version": 3
   },
   "file_extension": ".py",
   "mimetype": "text/x-python",
   "name": "python",
   "nbconvert_exporter": "python",
   "pygments_lexer": "ipython3",
   "version": "3.8.3"
  }
 },
 "nbformat": 4,
 "nbformat_minor": 4
}
